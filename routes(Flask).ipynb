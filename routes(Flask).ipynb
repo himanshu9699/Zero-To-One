from flask import Flask, request, jsonify
import io
import string
import h5py
import numpy as np
import cv2
import keras.utils as image
import os
import PIL
from PIL import ImageTk
import PIL.Image

app = Flask(_name_)

# model = h5py.File("C:\\Users\\Himanshu Agrawal\\PycharmProjects\\pythonProject5\\model.h5")

@app.route("/predict", methods=["POST", "GET"])
def user_input():
    data = request.get_json()
    print(data)
    if(request.method == "POST"):
        return jsonify({"data": data})
    if(request.method == "GET"):
        def check_sim(i,file_map):
               for item in file_map:
                      for word in file_map[item]:
                             if(i==word):
                                    return 1,item
               return -1,""
        file_map={}
        editFiles = []
        # inputtxt=[]
        op_dest=".filtered_data/"
        alpha_dest="./alphabet/"
        dirListing = os.listdir(op_dest)
        for item in dirListing:
               if ".webp" in item:
                      editFiles.append(item)
        for i in editFiles:
               tmp=i.replace(".webp","")
               #print(tmp)
               tmp=tmp.split()
               file_map[i]=tmp

        def func(a):
               all_frames=[]
               final= PIL.Image.new('RGB', (380, 260))
               words=a.split()
               for i in words:
                      flag,sim=check_sim(i,file_map)
                      if(flag==-1):
                             for j in i:
                                    print(j)
                                    im = PIL.Image.open(alpha_dest+str(j).lower()+"_small.gif")
                                    frameCnt = im.n_frames
                                    for frame_cnt in range(frameCnt):
                                           im.seek(frame_cnt)
                                           im.save("tmp.png")
                                           img = cv2.imread("tmp.png")
                                           img = cv2.cvtColor(img, cv2.COLOR_BGR2RGB)
                                           img = cv2.resize(img, (380,260))
                                           im_arr = PIL.Image.fromarray(img)
                                           for itr in range(15):
                                                  all_frames.append(im_arr)
                      else:
                             print(sim)
                             im = PIL.Image.open(op_dest+sim)
                             im.info.pop('background', None)
                             im.save('tmp.gif', 'gif', save_all=True)
                             im = PIL.Image.open("tmp.gif")
                             frameCnt = im.n_frames
                             for frame_cnt in range(frameCnt):
                                    im.seek(frame_cnt)
                                    im.save("tmp.png")
                                    img = cv2.imread("tmp.png")
                                    img = cv2.cvtColor(img, cv2.COLOR_BGR2RGB)
                                    img = cv2.resize(img, (380,260))
                                    im_arr = PIL.Image.fromarray(img)
                                    all_frames.append(im_arr)
               final.save("out.gif", save_all=True, append_images=all_frames, duration=100, loop=0)
               return all_frames
        func(data["userText"])

@app.route("/")
def send():
    return "C:\\Users\\Himanshu Agrawal\\PycharmProjects\\pythonProject5\\venv\\out.gif"

if _name_ == "_main_":
    app.run(debug=True,port=int(os.getenv('PORT', 3300)))
